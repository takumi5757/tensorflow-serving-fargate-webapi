{
 "cells": [
  {
   "cell_type": "code",
   "execution_count": 1,
   "id": "69ed29d7",
   "metadata": {},
   "outputs": [],
   "source": [
    "from keras.datasets import mnist\n",
    "import numpy as np\n",
    "import matplotlib.pyplot as plt\n",
    "from tensorflow.keras.utils import to_categorical\n",
    "from tensorflow.keras.layers import (\n",
    "    Activation,\n",
    "    BatchNormalization,\n",
    "    Conv2D,\n",
    "    Input,\n",
    "    Lambda,\n",
    "    MaxPool2D,\n",
    "    Reshape,\n",
    "    Flatten,\n",
    "    Dense\n",
    ")\n",
    "\n",
    "from tensorflow.keras.models import Model\n",
    "from tensorflow.keras import regularizers\n",
    "from tensorflow.keras import backend as K\n",
    "import tensorflow as tf\n",
    "from tensorflow.keras.optimizers import Adam\n",
    "\n",
    "# tsne\n",
    "from sklearn.manifold import TSNE\n",
    "import pandas as pd"
   ]
  },
  {
   "cell_type": "markdown",
   "id": "6acf3f17",
   "metadata": {},
   "source": [
    "# load data"
   ]
  },
  {
   "cell_type": "code",
   "execution_count": 2,
   "id": "77d62eed",
   "metadata": {},
   "outputs": [],
   "source": [
    "(X, y), (X_test, y_test) = mnist.load_data()\n",
    "X = X[:, :, :, np.newaxis].astype('float32') / 255\n",
    "X_test = X_test[:, :, :, np.newaxis].astype('float32') / 255\n",
    "\n",
    "y_categorical = to_categorical(y, 10)\n",
    "y_test_categorical = to_categorical(y_test, 10)"
   ]
  },
  {
   "cell_type": "markdown",
   "id": "d52a7ebc",
   "metadata": {},
   "source": [
    "# model"
   ]
  },
  {
   "cell_type": "code",
   "execution_count": 3,
   "id": "a31dde20",
   "metadata": {},
   "outputs": [],
   "source": [
    "#arcface\n",
    "class ArcFace(tf.keras.layers.Layer):\n",
    "    def __init__(self, n_classes=10, s=1.0, m=0.01, regularizer=None, **kwargs):\n",
    "        super(ArcFace, self).__init__(**kwargs)\n",
    "        self.n_classes = n_classes\n",
    "        self.s = s\n",
    "        self.m = m\n",
    "        self.regularizer = regularizers.get(regularizer)\n",
    "\n",
    "    def build(self, input_shape):\n",
    "        super(ArcFace, self).build(input_shape[0])\n",
    "        self.W = self.add_weight(name='W',\n",
    "                                shape=(input_shape[0][-1], self.n_classes),\n",
    "                                initializer='glorot_uniform',\n",
    "                                trainable=True,\n",
    "                                regularizer=self.regularizer)\n",
    "\n",
    "    def call(self, inputs):\n",
    "        x, y = inputs\n",
    "        c = K.shape(x)[-1]\n",
    "        # normalize feature\n",
    "        x = tf.nn.l2_normalize(x, axis=1)\n",
    "        # normalize weights\n",
    "        W = tf.nn.l2_normalize(self.W, axis=0)\n",
    "        # dot product\n",
    "        logits = x @ W\n",
    "        # add margin\n",
    "        # clip logits to prevent zero division when backward\n",
    "        theta = tf.acos(K.clip(logits, -1.0 + K.epsilon(), 1.0 - K.epsilon()))\n",
    "        target_logits = tf.cos(theta + self.m)\n",
    "\n",
    "        logits = logits * (1 - y) + target_logits * y\n",
    "        # feature re-scale\n",
    "        logits *= self.s\n",
    "        out = tf.nn.softmax(logits)\n",
    "\n",
    "        return out\n",
    "\n",
    "    def compute_output_shape(self, input_shape):\n",
    "        return (None, self.n_classes)\n",
    "    \n",
    "    def get_config(self):\n",
    "        config = super(ArcFace, self).get_config()\n",
    "        config.update({\"n_classes\": self.n_classes})\n",
    "        return config"
   ]
  },
  {
   "cell_type": "code",
   "execution_count": 4,
   "id": "25d95bd8",
   "metadata": {},
   "outputs": [
    {
     "name": "stdout",
     "output_type": "stream",
     "text": [
      "Model: \"model\"\n",
      "__________________________________________________________________________________________________\n",
      "Layer (type)                    Output Shape         Param #     Connected to                     \n",
      "==================================================================================================\n",
      "input_1 (InputLayer)            [(None, 28, 28, 1)]  0                                            \n",
      "__________________________________________________________________________________________________\n",
      "conv2d (Conv2D)                 (None, 28, 28, 32)   320         input_1[0][0]                    \n",
      "__________________________________________________________________________________________________\n",
      "conv2d_1 (Conv2D)               (None, 28, 28, 32)   9248        conv2d[0][0]                     \n",
      "__________________________________________________________________________________________________\n",
      "batch_normalization (BatchNorma (None, 28, 28, 32)   128         conv2d_1[0][0]                   \n",
      "__________________________________________________________________________________________________\n",
      "max_pooling2d (MaxPooling2D)    (None, 14, 14, 32)   0           batch_normalization[0][0]        \n",
      "__________________________________________________________________________________________________\n",
      "conv2d_2 (Conv2D)               (None, 14, 14, 64)   18496       max_pooling2d[0][0]              \n",
      "__________________________________________________________________________________________________\n",
      "conv2d_3 (Conv2D)               (None, 14, 14, 64)   36928       conv2d_2[0][0]                   \n",
      "__________________________________________________________________________________________________\n",
      "batch_normalization_1 (BatchNor (None, 14, 14, 64)   256         conv2d_3[0][0]                   \n",
      "__________________________________________________________________________________________________\n",
      "max_pooling2d_1 (MaxPooling2D)  (None, 7, 7, 64)     0           batch_normalization_1[0][0]      \n",
      "__________________________________________________________________________________________________\n",
      "conv2d_4 (Conv2D)               (None, 7, 7, 128)    73856       max_pooling2d_1[0][0]            \n",
      "__________________________________________________________________________________________________\n",
      "conv2d_5 (Conv2D)               (None, 7, 7, 128)    147584      conv2d_4[0][0]                   \n",
      "__________________________________________________________________________________________________\n",
      "batch_normalization_2 (BatchNor (None, 7, 7, 128)    512         conv2d_5[0][0]                   \n",
      "__________________________________________________________________________________________________\n",
      "max_pooling2d_2 (MaxPooling2D)  (None, 3, 3, 128)    0           batch_normalization_2[0][0]      \n",
      "__________________________________________________________________________________________________\n",
      "flatten (Flatten)               (None, 1152)         0           max_pooling2d_2[0][0]            \n",
      "__________________________________________________________________________________________________\n",
      "dense (Dense)                   (None, 64)           73792       flatten[0][0]                    \n",
      "__________________________________________________________________________________________________\n",
      "input_2 (InputLayer)            [(None, 10)]         0                                            \n",
      "__________________________________________________________________________________________________\n",
      "arc_face (ArcFace)              (None, 10)           640         dense[0][0]                      \n",
      "                                                                 input_2[0][0]                    \n",
      "==================================================================================================\n",
      "Total params: 361,760\n",
      "Trainable params: 361,312\n",
      "Non-trainable params: 448\n",
      "__________________________________________________________________________________________________\n"
     ]
    }
   ],
   "source": [
    "n_categories = 10\n",
    "weight_decay = 1e-4\n",
    "inputs = Input(shape=(28,28,1))\n",
    "yinput = Input(shape=(n_categories,))\n",
    "x = Conv2D(32, (3, 3), padding=\"same\", activation=\"relu\")(inputs)\n",
    "x = Conv2D(32, (3, 3), padding=\"same\", activation=\"relu\")(x)\n",
    "x = BatchNormalization()(x)\n",
    "x = MaxPool2D(pool_size=(2, 2), data_format=\"channels_last\")(x)\n",
    "x = Conv2D(64, (3, 3), padding=\"same\", activation=\"relu\")(x)\n",
    "x = Conv2D(64, (3, 3), padding=\"same\", activation=\"relu\")(x)\n",
    "x = BatchNormalization()(x)\n",
    "x = MaxPool2D(pool_size=(2, 2), data_format=\"channels_last\")(x)\n",
    "x = Conv2D(128, (3, 3), padding=\"same\", activation=\"relu\")(x)\n",
    "x = Conv2D(128, (3, 3), padding=\"same\", activation=\"relu\")(x)\n",
    "x = BatchNormalization()(x)\n",
    "x = MaxPool2D(pool_size=(2, 2), data_format=\"channels_last\")(x)\n",
    "x = Flatten()(x)\n",
    "x = Dense(64)(x)\n",
    "output = ArcFace(n_categories, regularizer=regularizers.l2(weight_decay))([x, yinput])\n",
    "model = Model(inputs=[inputs, yinput], outputs=output)\n",
    "\n",
    "model.summary()"
   ]
  },
  {
   "cell_type": "code",
   "execution_count": 10,
   "id": "f5170a24",
   "metadata": {},
   "outputs": [
    {
     "name": "stderr",
     "output_type": "stream",
     "text": [
      "/home/sato/.pyenv/versions/3.7.9/envs/rdd-segmentation/lib/python3.7/site-packages/tensorflow/python/keras/optimizer_v2/optimizer_v2.py:375: UserWarning: The `lr` argument is deprecated, use `learning_rate` instead.\n",
      "  \"The `lr` argument is deprecated, use `learning_rate` instead.\")\n"
     ]
    },
    {
     "name": "stdout",
     "output_type": "stream",
     "text": [
      "Epoch 1/3\n",
      "3750/3750 [==============================] - 51s 13ms/step - loss: 0.2238 - accuracy: 0.9616 - val_loss: 0.2197 - val_accuracy: 0.9869\n",
      "Epoch 2/3\n",
      "3750/3750 [==============================] - 50s 13ms/step - loss: 0.2197 - accuracy: 0.9823 - val_loss: 0.2191 - val_accuracy: 0.9870\n",
      "Epoch 3/3\n",
      "3750/3750 [==============================] - 50s 13ms/step - loss: 0.2191 - accuracy: 0.9857 - val_loss: 0.2188 - val_accuracy: 0.9904\n"
     ]
    },
    {
     "data": {
      "text/plain": [
       "<tensorflow.python.keras.callbacks.History at 0x7f427c455d10>"
      ]
     },
     "execution_count": 10,
     "metadata": {},
     "output_type": "execute_result"
    }
   ],
   "source": [
    "learning_rate=0.01\n",
    "model.compile(optimizer= Adam(lr=learning_rate),\n",
    "              loss='binary_crossentropy',\n",
    "              metrics=['accuracy'])\n",
    "\n",
    "model.fit([X,y_categorical], y_categorical, batch_size=16, epochs=3, validation_data=([X_test,y_test_categorical], y_test_categorical))"
   ]
  },
  {
   "cell_type": "code",
   "execution_count": 11,
   "id": "a2a62d2d",
   "metadata": {},
   "outputs": [
    {
     "name": "stdout",
     "output_type": "stream",
     "text": [
      "r 0 980\n",
      "g 1 1135\n",
      "b 2 1032\n",
      "c 3 1010\n",
      "m 4 982\n",
      "y 5 892\n",
      "k 6 958\n",
      "orange 7 1028\n",
      "pink 8 974\n",
      "gray 9 1009\n"
     ]
    },
    {
     "data": {
      "image/png": "[encoded data removed]",
      "text/plain": [
       "<Figure size 720x720 with 1 Axes>"
      ]
     },
     "metadata": {
      "needs_background": "light"
     },
     "output_type": "display_data"
    }
   ],
   "source": [
    "extractor = Model(inputs=model.input[0], outputs=model.layers[-3].output)\n",
    "\n",
    "feature_list = extractor.predict(X_test)\n",
    "\n",
    "tsne = TSNE(n_components=2, random_state=0, perplexity=30, n_iter=1000)\n",
    "X_embedded = tsne.fit_transform(feature_list)\n",
    "\n",
    "# %%\n",
    "df_defect = pd.concat(\n",
    "    [\n",
    "        pd.DataFrame(y_test, columns=[\"label\"]),\n",
    "        pd.DataFrame(X_embedded, columns=[\"col1\", \"col2\"]),\n",
    "    ],\n",
    "    axis=1,)\n",
    "\n",
    "categories = [0,1,2,3,4,5,6,7,8,9]\n",
    "colors = [\"r\", \"g\", \"b\", \"c\", \"m\", \"y\", \"k\", \"orange\", \"pink\", \"gray\"]\n",
    "plt.figure(figsize=(10, 10))\n",
    "for i, v in enumerate(categories):\n",
    "    tmp_df = df_defect[df_defect[\"label\"] == i]\n",
    "    print(colors[i], v, len(tmp_df))\n",
    "    plt.scatter(tmp_df[\"col1\"], tmp_df[\"col2\"], label=v, color=colors[i])"
   ]
  },
  {
   "cell_type": "code",
   "execution_count": 51,
   "id": "44149a56",
   "metadata": {},
   "outputs": [
    {
     "data": {
      "text/plain": [
       "array([[0.08436599, 0.0813511 , 0.08273904, 0.08290315, 0.08351602,\n",
       "        0.0821466 , 0.08317196, 0.25601873, 0.08167341, 0.08211391],\n",
       "       [0.0857701 , 0.08590756, 0.25113225, 0.09178449, 0.0792155 ,\n",
       "        0.07931087, 0.08172585, 0.08198734, 0.08301166, 0.08015434],\n",
       "       [0.08133496, 0.25821778, 0.08230421, 0.08251401, 0.08251902,\n",
       "        0.08315001, 0.08162133, 0.0819144 , 0.08470069, 0.08172357]],\n",
       "      dtype=float32)"
      ]
     },
     "execution_count": 51,
     "metadata": {},
     "output_type": "execute_result"
    }
   ],
   "source": [
    "model.predict([X_test[0:3], np.zeros((3,10))])"
   ]
  },
  {
   "cell_type": "markdown",
   "id": "bfa1e0ff",
   "metadata": {},
   "source": [
    "# save model"
   ]
  },
  {
   "cell_type": "code",
   "execution_count": 16,
   "id": "17a28adb",
   "metadata": {},
   "outputs": [
    {
     "name": "stdout",
     "output_type": "stream",
     "text": [
      "export_path = ./models/1\n",
      "\n",
      "INFO:tensorflow:Assets written to: ./models/1/assets\n"
     ]
    }
   ],
   "source": [
    "import tempfile\n",
    "import os\n",
    "MODEL_DIR = './models/'\n",
    "version = 1\n",
    "export_path = os.path.join(MODEL_DIR, str(version))\n",
    "print('export_path = {}\\n'.format(export_path))\n",
    "\n",
    "tf.keras.models.save_model(\n",
    "    model,\n",
    "    export_path,\n",
    "    overwrite=True,\n",
    "    include_optimizer=True,\n",
    "    save_format=None,\n",
    "    signatures=None,\n",
    "    options=None\n",
    ")"
   ]
  },
  {
   "cell_type": "code",
   "execution_count": 4,
   "id": "f1bebd03",
   "metadata": {},
   "outputs": [
    {
     "name": "stdout",
     "output_type": "stream",
     "text": [
      "['serving_default']\n"
     ]
    }
   ],
   "source": [
    "loaded = tf.saved_model.load('./models/1/')\n",
    "print(list(loaded.signatures.keys()))"
   ]
  },
  {
   "cell_type": "code",
   "execution_count": 75,
   "id": "d2d15cc4",
   "metadata": {},
   "outputs": [
    {
     "data": {
      "text/plain": [
       "{'arc_face_1': TensorSpec(shape=(None, 10), dtype=tf.float32, name='arc_face_1')}"
      ]
     },
     "execution_count": 75,
     "metadata": {},
     "output_type": "execute_result"
    }
   ],
   "source": [
    "loaded.signatures[\"serving_default\"].structured_outputs"
   ]
  },
  {
   "cell_type": "code",
   "execution_count": 84,
   "id": "fa9edf31",
   "metadata": {},
   "outputs": [
    {
     "data": {
      "text/plain": [
       "[<tf.Tensor 'input_3:0' shape=(None, 28, 28, 1) dtype=float32>,\n",
       " <tf.Tensor 'input_4:0' shape=(None, 10) dtype=float32>,\n",
       " <tf.Tensor 'unknown:0' shape=() dtype=resource>,\n",
       " <tf.Tensor 'unknown_0:0' shape=() dtype=resource>,\n",
       " <tf.Tensor 'unknown_1:0' shape=() dtype=resource>,\n",
       " <tf.Tensor 'unknown_2:0' shape=() dtype=resource>,\n",
       " <tf.Tensor 'unknown_3:0' shape=() dtype=resource>,\n",
       " <tf.Tensor 'unknown_4:0' shape=() dtype=resource>,\n",
       " <tf.Tensor 'unknown_5:0' shape=() dtype=resource>,\n",
       " <tf.Tensor 'unknown_6:0' shape=() dtype=resource>,\n",
       " <tf.Tensor 'unknown_7:0' shape=() dtype=resource>,\n",
       " <tf.Tensor 'unknown_8:0' shape=() dtype=resource>,\n",
       " <tf.Tensor 'unknown_9:0' shape=() dtype=resource>,\n",
       " <tf.Tensor 'unknown_10:0' shape=() dtype=resource>,\n",
       " <tf.Tensor 'unknown_11:0' shape=() dtype=resource>,\n",
       " <tf.Tensor 'unknown_12:0' shape=() dtype=resource>,\n",
       " <tf.Tensor 'unknown_13:0' shape=() dtype=resource>,\n",
       " <tf.Tensor 'unknown_14:0' shape=() dtype=resource>,\n",
       " <tf.Tensor 'unknown_15:0' shape=() dtype=resource>,\n",
       " <tf.Tensor 'unknown_16:0' shape=() dtype=resource>,\n",
       " <tf.Tensor 'unknown_17:0' shape=() dtype=resource>,\n",
       " <tf.Tensor 'unknown_18:0' shape=() dtype=resource>,\n",
       " <tf.Tensor 'unknown_19:0' shape=() dtype=resource>,\n",
       " <tf.Tensor 'unknown_20:0' shape=() dtype=resource>,\n",
       " <tf.Tensor 'unknown_21:0' shape=() dtype=resource>,\n",
       " <tf.Tensor 'unknown_22:0' shape=() dtype=resource>,\n",
       " <tf.Tensor 'unknown_23:0' shape=() dtype=resource>,\n",
       " <tf.Tensor 'unknown_24:0' shape=() dtype=resource>,\n",
       " <tf.Tensor 'unknown_25:0' shape=() dtype=resource>]"
      ]
     },
     "execution_count": 84,
     "metadata": {},
     "output_type": "execute_result"
    }
   ],
   "source": [
    "loaded.signatures[\"serving_default\"].inputs"
   ]
  },
  {
   "cell_type": "markdown",
   "id": "0b16f738",
   "metadata": {},
   "source": [
    "# request"
   ]
  },
  {
   "cell_type": "code",
   "execution_count": 9,
   "id": "16b53f8d",
   "metadata": {},
   "outputs": [
    {
     "name": "stdout",
     "output_type": "stream",
     "text": [
      "Data: {\"signature_name\": \"serving_default\", \"instances\": ... 0.0, 0.0, 0.0, 0.0, 0.0, 0.0, 0.0, 0.0, 0.0, 0.0]}]}\n"
     ]
    }
   ],
   "source": [
    "import requests\n",
    "import json\n",
    "\n",
    "data = json.dumps({\"signature_name\": \"serving_default\", \"instances\": [{'input_3': X_test[0].tolist(),\n",
    "                                                                       'input_4': np.zeros((10,)).tolist()}]})\n",
    "\n",
    "print('Data: {} ... {}'.format(data[:50], data[len(data)-52:]))\n",
    "headers = {\"content-type\": \"application/json\"}\n",
    "json_response = requests.post('http://localhost:8501/v1/models/mnist_arcface:predict', data=data, headers=headers)\n",
    "predictions = json.loads(json_response.text)['predictions']"
   ]
  },
  {
   "cell_type": "code",
   "execution_count": 10,
   "id": "367ed67f",
   "metadata": {},
   "outputs": [
    {
     "data": {
      "text/plain": [
       "<Response [200]>"
      ]
     },
     "execution_count": 10,
     "metadata": {},
     "output_type": "execute_result"
    }
   ],
   "source": [
    "json_response"
   ]
  },
  {
   "cell_type": "code",
   "execution_count": 11,
   "id": "fbf6251f",
   "metadata": {},
   "outputs": [
    {
     "data": {
      "text/plain": [
       "[[0.0843659937,\n",
       "  0.0813511,\n",
       "  0.0827390477,\n",
       "  0.0829031616,\n",
       "  0.0835160241,\n",
       "  0.0821465924,\n",
       "  0.0831719562,\n",
       "  0.256018728,\n",
       "  0.0816734061,\n",
       "  0.0821139216]]"
      ]
     },
     "execution_count": 11,
     "metadata": {},
     "output_type": "execute_result"
    }
   ],
   "source": [
    "predictions"
   ]
  },
  {
   "cell_type": "markdown",
   "id": "286a9c18",
   "metadata": {},
   "source": [
    "# using gRPC"
   ]
  },
  {
   "cell_type": "code",
   "execution_count": 26,
   "id": "5398f948",
   "metadata": {},
   "outputs": [
    {
     "name": "stdout",
     "output_type": "stream",
     "text": [
      "Requirement already satisfied: tensorflow-serving-api in /home/sato/.pyenv/versions/3.7.9/envs/rdd-segmentation/lib/python3.7/site-packages (2.5.1)\n",
      "Requirement already satisfied: grpcio in /home/sato/.pyenv/versions/3.7.9/envs/rdd-segmentation/lib/python3.7/site-packages (1.34.1)\n",
      "Requirement already satisfied: protobuf>=3.6.0 in /home/sato/.pyenv/versions/3.7.9/envs/rdd-segmentation/lib/python3.7/site-packages (from tensorflow-serving-api) (3.16.0)\n",
      "Requirement already satisfied: tensorflow<3,>=2.5.0 in /home/sato/.pyenv/versions/3.7.9/envs/rdd-segmentation/lib/python3.7/site-packages (from tensorflow-serving-api) (2.5.0)\n",
      "Requirement already satisfied: six>=1.5.2 in /home/sato/.pyenv/versions/3.7.9/envs/rdd-segmentation/lib/python3.7/site-packages (from grpcio) (1.15.0)\n",
      "Requirement already satisfied: typing-extensions~=3.7.4 in /home/sato/.pyenv/versions/3.7.9/envs/rdd-segmentation/lib/python3.7/site-packages (from tensorflow<3,>=2.5.0->tensorflow-serving-api) (3.7.4.3)\n",
      "Requirement already satisfied: flatbuffers~=1.12.0 in /home/sato/.pyenv/versions/3.7.9/envs/rdd-segmentation/lib/python3.7/site-packages (from tensorflow<3,>=2.5.0->tensorflow-serving-api) (1.12)\n",
      "Requirement already satisfied: absl-py~=0.10 in /home/sato/.pyenv/versions/3.7.9/envs/rdd-segmentation/lib/python3.7/site-packages (from tensorflow<3,>=2.5.0->tensorflow-serving-api) (0.12.0)\n",
      "Requirement already satisfied: opt-einsum~=3.3.0 in /home/sato/.pyenv/versions/3.7.9/envs/rdd-segmentation/lib/python3.7/site-packages (from tensorflow<3,>=2.5.0->tensorflow-serving-api) (3.3.0)\n",
      "Requirement already satisfied: keras-preprocessing~=1.1.2 in /home/sato/.pyenv/versions/3.7.9/envs/rdd-segmentation/lib/python3.7/site-packages (from tensorflow<3,>=2.5.0->tensorflow-serving-api) (1.1.2)\n",
      "Requirement already satisfied: termcolor~=1.1.0 in /home/sato/.pyenv/versions/3.7.9/envs/rdd-segmentation/lib/python3.7/site-packages (from tensorflow<3,>=2.5.0->tensorflow-serving-api) (1.1.0)\n",
      "Requirement already satisfied: gast==0.4.0 in /home/sato/.pyenv/versions/3.7.9/envs/rdd-segmentation/lib/python3.7/site-packages (from tensorflow<3,>=2.5.0->tensorflow-serving-api) (0.4.0)\n",
      "Requirement already satisfied: astunparse~=1.6.3 in /home/sato/.pyenv/versions/3.7.9/envs/rdd-segmentation/lib/python3.7/site-packages (from tensorflow<3,>=2.5.0->tensorflow-serving-api) (1.6.3)\n",
      "Requirement already satisfied: keras-nightly~=2.5.0.dev in /home/sato/.pyenv/versions/3.7.9/envs/rdd-segmentation/lib/python3.7/site-packages (from tensorflow<3,>=2.5.0->tensorflow-serving-api) (2.5.0.dev2021032900)\n",
      "Requirement already satisfied: numpy~=1.19.2 in /home/sato/.pyenv/versions/3.7.9/envs/rdd-segmentation/lib/python3.7/site-packages (from tensorflow<3,>=2.5.0->tensorflow-serving-api) (1.19.5)\n",
      "Requirement already satisfied: google-pasta~=0.2 in /home/sato/.pyenv/versions/3.7.9/envs/rdd-segmentation/lib/python3.7/site-packages (from tensorflow<3,>=2.5.0->tensorflow-serving-api) (0.2.0)\n",
      "Requirement already satisfied: wheel~=0.35 in /home/sato/.pyenv/versions/3.7.9/envs/rdd-segmentation/lib/python3.7/site-packages (from tensorflow<3,>=2.5.0->tensorflow-serving-api) (0.36.2)\n",
      "Requirement already satisfied: h5py~=3.1.0 in /home/sato/.pyenv/versions/3.7.9/envs/rdd-segmentation/lib/python3.7/site-packages (from tensorflow<3,>=2.5.0->tensorflow-serving-api) (3.1.0)\n",
      "Requirement already satisfied: wrapt~=1.12.1 in /home/sato/.pyenv/versions/3.7.9/envs/rdd-segmentation/lib/python3.7/site-packages (from tensorflow<3,>=2.5.0->tensorflow-serving-api) (1.12.1)\n",
      "Requirement already satisfied: tensorboard~=2.5 in /home/sato/.pyenv/versions/3.7.9/envs/rdd-segmentation/lib/python3.7/site-packages (from tensorflow<3,>=2.5.0->tensorflow-serving-api) (2.5.0)\n",
      "Requirement already satisfied: tensorflow-estimator<2.6.0,>=2.5.0rc0 in /home/sato/.pyenv/versions/3.7.9/envs/rdd-segmentation/lib/python3.7/site-packages (from tensorflow<3,>=2.5.0->tensorflow-serving-api) (2.5.0)\n",
      "Requirement already satisfied: cached-property in /home/sato/.pyenv/versions/3.7.9/envs/rdd-segmentation/lib/python3.7/site-packages (from h5py~=3.1.0->tensorflow<3,>=2.5.0->tensorflow-serving-api) (1.5.2)\n",
      "Requirement already satisfied: markdown>=2.6.8 in /home/sato/.pyenv/versions/3.7.9/envs/rdd-segmentation/lib/python3.7/site-packages (from tensorboard~=2.5->tensorflow<3,>=2.5.0->tensorflow-serving-api) (3.3.4)\n",
      "Requirement already satisfied: tensorboard-data-server<0.7.0,>=0.6.0 in /home/sato/.pyenv/versions/3.7.9/envs/rdd-segmentation/lib/python3.7/site-packages (from tensorboard~=2.5->tensorflow<3,>=2.5.0->tensorflow-serving-api) (0.6.1)\n",
      "Requirement already satisfied: requests<3,>=2.21.0 in /home/sato/.pyenv/versions/3.7.9/envs/rdd-segmentation/lib/python3.7/site-packages (from tensorboard~=2.5->tensorflow<3,>=2.5.0->tensorflow-serving-api) (2.25.1)\n",
      "Requirement already satisfied: werkzeug>=0.11.15 in /home/sato/.pyenv/versions/3.7.9/envs/rdd-segmentation/lib/python3.7/site-packages (from tensorboard~=2.5->tensorflow<3,>=2.5.0->tensorflow-serving-api) (2.0.0)\n",
      "Requirement already satisfied: google-auth<2,>=1.6.3 in /home/sato/.pyenv/versions/3.7.9/envs/rdd-segmentation/lib/python3.7/site-packages (from tensorboard~=2.5->tensorflow<3,>=2.5.0->tensorflow-serving-api) (1.30.0)\n",
      "Requirement already satisfied: google-auth-oauthlib<0.5,>=0.4.1 in /home/sato/.pyenv/versions/3.7.9/envs/rdd-segmentation/lib/python3.7/site-packages (from tensorboard~=2.5->tensorflow<3,>=2.5.0->tensorflow-serving-api) (0.4.4)\n",
      "Requirement already satisfied: setuptools>=41.0.0 in /home/sato/.pyenv/versions/3.7.9/envs/rdd-segmentation/lib/python3.7/site-packages (from tensorboard~=2.5->tensorflow<3,>=2.5.0->tensorflow-serving-api) (56.0.0)\n",
      "Requirement already satisfied: tensorboard-plugin-wit>=1.6.0 in /home/sato/.pyenv/versions/3.7.9/envs/rdd-segmentation/lib/python3.7/site-packages (from tensorboard~=2.5->tensorflow<3,>=2.5.0->tensorflow-serving-api) (1.8.0)\n",
      "Requirement already satisfied: rsa<5,>=3.1.4 in /home/sato/.pyenv/versions/3.7.9/envs/rdd-segmentation/lib/python3.7/site-packages (from google-auth<2,>=1.6.3->tensorboard~=2.5->tensorflow<3,>=2.5.0->tensorflow-serving-api) (4.7.2)\n",
      "Requirement already satisfied: cachetools<5.0,>=2.0.0 in /home/sato/.pyenv/versions/3.7.9/envs/rdd-segmentation/lib/python3.7/site-packages (from google-auth<2,>=1.6.3->tensorboard~=2.5->tensorflow<3,>=2.5.0->tensorflow-serving-api) (4.2.2)\n",
      "Requirement already satisfied: pyasn1-modules>=0.2.1 in /home/sato/.pyenv/versions/3.7.9/envs/rdd-segmentation/lib/python3.7/site-packages (from google-auth<2,>=1.6.3->tensorboard~=2.5->tensorflow<3,>=2.5.0->tensorflow-serving-api) (0.2.8)\n",
      "Requirement already satisfied: requests-oauthlib>=0.7.0 in /home/sato/.pyenv/versions/3.7.9/envs/rdd-segmentation/lib/python3.7/site-packages (from google-auth-oauthlib<0.5,>=0.4.1->tensorboard~=2.5->tensorflow<3,>=2.5.0->tensorflow-serving-api) (1.3.0)\n",
      "Requirement already satisfied: importlib-metadata in /home/sato/.pyenv/versions/3.7.9/envs/rdd-segmentation/lib/python3.7/site-packages (from markdown>=2.6.8->tensorboard~=2.5->tensorflow<3,>=2.5.0->tensorflow-serving-api) (4.0.1)\n",
      "Requirement already satisfied: pyasn1<0.5.0,>=0.4.6 in /home/sato/.pyenv/versions/3.7.9/envs/rdd-segmentation/lib/python3.7/site-packages (from pyasn1-modules>=0.2.1->google-auth<2,>=1.6.3->tensorboard~=2.5->tensorflow<3,>=2.5.0->tensorflow-serving-api) (0.4.8)\n",
      "Requirement already satisfied: idna<3,>=2.5 in /home/sato/.pyenv/versions/3.7.9/envs/rdd-segmentation/lib/python3.7/site-packages (from requests<3,>=2.21.0->tensorboard~=2.5->tensorflow<3,>=2.5.0->tensorflow-serving-api) (2.10)\n",
      "Requirement already satisfied: certifi>=2017.4.17 in /home/sato/.pyenv/versions/3.7.9/envs/rdd-segmentation/lib/python3.7/site-packages (from requests<3,>=2.21.0->tensorboard~=2.5->tensorflow<3,>=2.5.0->tensorflow-serving-api) (2020.12.5)\n",
      "Requirement already satisfied: urllib3<1.27,>=1.21.1 in /home/sato/.pyenv/versions/3.7.9/envs/rdd-segmentation/lib/python3.7/site-packages (from requests<3,>=2.21.0->tensorboard~=2.5->tensorflow<3,>=2.5.0->tensorflow-serving-api) (1.26.4)\n",
      "Requirement already satisfied: chardet<5,>=3.0.2 in /home/sato/.pyenv/versions/3.7.9/envs/rdd-segmentation/lib/python3.7/site-packages (from requests<3,>=2.21.0->tensorboard~=2.5->tensorflow<3,>=2.5.0->tensorflow-serving-api) (4.0.0)\n",
      "Requirement already satisfied: oauthlib>=3.0.0 in /home/sato/.pyenv/versions/3.7.9/envs/rdd-segmentation/lib/python3.7/site-packages (from requests-oauthlib>=0.7.0->google-auth-oauthlib<0.5,>=0.4.1->tensorboard~=2.5->tensorflow<3,>=2.5.0->tensorflow-serving-api) (3.1.0)\n"
     ]
    },
    {
     "name": "stdout",
     "output_type": "stream",
     "text": [
      "Requirement already satisfied: zipp>=0.5 in /home/sato/.pyenv/versions/3.7.9/envs/rdd-segmentation/lib/python3.7/site-packages (from importlib-metadata->markdown>=2.6.8->tensorboard~=2.5->tensorflow<3,>=2.5.0->tensorflow-serving-api) (3.4.1)\r\n"
     ]
    }
   ],
   "source": [
    "!pip install tensorflow-serving-api grpcio"
   ]
  },
  {
   "cell_type": "code",
   "execution_count": 27,
   "id": "b766fe23",
   "metadata": {},
   "outputs": [],
   "source": [
    "from tensorflow_serving.apis import predict_pb2\n",
    "import grpc\n",
    "from tensorflow_serving.apis import prediction_service_pb2_grpc"
   ]
  },
  {
   "cell_type": "code",
   "execution_count": 60,
   "id": "2a17d2f3",
   "metadata": {},
   "outputs": [],
   "source": [
    "request = predict_pb2.PredictRequest()\n",
    "request.model_spec.name = \"mnist_arcface\"\n",
    "request.model_spec.signature_name = \"serving_default\"\n",
    "request.inputs[\"input_3\"].CopyFrom(tf.make_tensor_proto(X_test[0][np.newaxis,...], dtype=tf.float32))\n",
    "request.inputs[\"input_4\"].CopyFrom(tf.make_tensor_proto(np.zeros((10,))[np.newaxis,...], dtype=tf.float32))"
   ]
  },
  {
   "cell_type": "code",
   "execution_count": 61,
   "id": "5611d8a6",
   "metadata": {},
   "outputs": [],
   "source": [
    "with grpc.insecure_channel(\"localhost:8500\") as channel:\n",
    "    stub = prediction_service_pb2_grpc.PredictionServiceStub(channel)\n",
    "    result = stub.Predict(request)"
   ]
  },
  {
   "cell_type": "code",
   "execution_count": 62,
   "id": "14243f88",
   "metadata": {},
   "outputs": [
    {
     "data": {
      "text/plain": [
       "outputs {\n",
       "  key: \"arc_face_1\"\n",
       "  value {\n",
       "    dtype: DT_FLOAT\n",
       "    tensor_shape {\n",
       "      dim {\n",
       "        size: 1\n",
       "      }\n",
       "      dim {\n",
       "        size: 10\n",
       "      }\n",
       "    }\n",
       "    float_val: 0.08436599373817444\n",
       "    float_val: 0.08135110139846802\n",
       "    float_val: 0.08273904770612717\n",
       "    float_val: 0.08290316164493561\n",
       "    float_val: 0.08351602405309677\n",
       "    float_val: 0.08214659243822098\n",
       "    float_val: 0.08317195624113083\n",
       "    float_val: 0.256018728017807\n",
       "    float_val: 0.08167340606451035\n",
       "    float_val: 0.08211392164230347\n",
       "  }\n",
       "}\n",
       "model_spec {\n",
       "  name: \"mnist_arcface\"\n",
       "  version {\n",
       "    value: 1\n",
       "  }\n",
       "  signature_name: \"serving_default\"\n",
       "}"
      ]
     },
     "execution_count": 62,
     "metadata": {},
     "output_type": "execute_result"
    }
   ],
   "source": [
    "result"
   ]
  },
  {
   "cell_type": "markdown",
   "id": "a8ecc285",
   "metadata": {},
   "source": [
    "# Appendix s3からモデルのダウンロード"
   ]
  },
  {
   "cell_type": "code",
   "execution_count": 2,
   "id": "7e206fe3",
   "metadata": {},
   "outputs": [
    {
     "name": "stdout",
     "output_type": "stream",
     "text": [
      "Collecting boto3\n",
      "  Downloading boto3-1.17.109-py2.py3-none-any.whl (131 kB)\n",
      "\u001b[K     |████████████████████████████████| 131 kB 9.3 MB/s eta 0:00:01\n",
      "\u001b[?25hCollecting s3transfer<0.5.0,>=0.4.0\n",
      "  Using cached s3transfer-0.4.2-py2.py3-none-any.whl (79 kB)\n",
      "Collecting jmespath<1.0.0,>=0.7.1\n",
      "  Using cached jmespath-0.10.0-py2.py3-none-any.whl (24 kB)\n",
      "Collecting botocore<1.21.0,>=1.20.109\n",
      "  Downloading botocore-1.20.109-py2.py3-none-any.whl (7.7 MB)\n",
      "\u001b[K     |████████████████████████████████| 7.7 MB 9.0 MB/s eta 0:00:01\n",
      "\u001b[?25hRequirement already satisfied: urllib3<1.27,>=1.25.4 in /home/sato/.pyenv/versions/3.7.9/envs/rdd-segmentation/lib/python3.7/site-packages (from botocore<1.21.0,>=1.20.109->boto3) (1.26.4)\n",
      "Requirement already satisfied: python-dateutil<3.0.0,>=2.1 in /home/sato/.pyenv/versions/3.7.9/envs/rdd-segmentation/lib/python3.7/site-packages (from botocore<1.21.0,>=1.20.109->boto3) (2.8.1)\n",
      "Requirement already satisfied: six>=1.5 in /home/sato/.pyenv/versions/3.7.9/envs/rdd-segmentation/lib/python3.7/site-packages (from python-dateutil<3.0.0,>=2.1->botocore<1.21.0,>=1.20.109->boto3) (1.15.0)\n",
      "Installing collected packages: jmespath, botocore, s3transfer, boto3\n",
      "Successfully installed boto3-1.17.109 botocore-1.20.109 jmespath-0.10.0 s3transfer-0.4.2\n"
     ]
    }
   ],
   "source": [
    "!pip install boto3"
   ]
  },
  {
   "cell_type": "code",
   "execution_count": 3,
   "id": "50fe16b8",
   "metadata": {},
   "outputs": [],
   "source": [
    "import boto3"
   ]
  },
  {
   "cell_type": "code",
   "execution_count": 15,
   "id": "f14b1706",
   "metadata": {},
   "outputs": [],
   "source": [
    "s3 = boto3.resource('s3') #S3オブジェクトを取得\n",
    "\n",
    "bucket = s3.Bucket('serving-mnist')\n",
    "bucket.download_file('models.tar.xz', './tmp/models.tar.xz')"
   ]
  }
 ],
 "metadata": {
  "kernelspec": {
   "display_name": "Python 3",
   "language": "python",
   "name": "python3"
  },
  "language_info": {
   "codemirror_mode": {
    "name": "ipython",
    "version": 3
   },
   "file_extension": ".py",
   "mimetype": "text/x-python",
   "name": "python",
   "nbconvert_exporter": "python",
   "pygments_lexer": "ipython3",
   "version": "3.7.9"
  },
  "toc": {
   "base_numbering": 1,
   "nav_menu": {},
   "number_sections": true,
   "sideBar": true,
   "skip_h1_title": false,
   "title_cell": "Table of Contents",
   "title_sidebar": "Contents",
   "toc_cell": false,
   "toc_position": {},
   "toc_section_display": true,
   "toc_window_display": false
  }
 },
 "nbformat": 4,
 "nbformat_minor": 5
}
